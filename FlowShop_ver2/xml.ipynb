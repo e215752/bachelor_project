{
 "cells": [
  {
   "cell_type": "code",
   "execution_count": 29,
   "metadata": {},
   "outputs": [],
   "source": [
    "import xml.etree.ElementTree as ET\n",
    "\n",
    "def parse_resource_data(file_path):\n",
    "    tree = ET.parse(file_path)\n",
    "    root = tree.getroot()\n",
    "\n",
    "    resource_m = {}\n",
    "    machine_processing_time = {}\n",
    "    machine_cost = {}\n",
    "\n",
    "    # XMLのplace要素を探索\n",
    "    for place in root.findall(\".//place\"):\n",
    "        place_text = place.find(\"text\").text\n",
    "        if place_text and place_text.startswith(\"resource\"):\n",
    "            # resource1 -> R0, resource2 -> R1, etc.の部分を修正\n",
    "            resource_id = place_text.replace(\"resource\", \"R\")  # resource1 -> R1, resource2 -> R2, etc.\n",
    "            resource_index = int(resource_id.replace(\"R\", \"\")) - 1  # インデックスを1つ減らす\n",
    "            resource_id = f\"R{resource_index}\"  # 新しいresource_idを生成\n",
    "\n",
    "            initmark = place.find(\"initmark/text\")\n",
    "            if initmark is not None and initmark.text:\n",
    "                machines = initmark.text.split(\"++\")\n",
    "                machine_list = []\n",
    "                for machine in machines:\n",
    "                    machine = machine.strip().strip('1`').strip('()').replace('\"', '')  # 余分な文字を削除\n",
    "                    machine_parts = machine.split(\",\")\n",
    "                    machine_name = machine_parts[0].strip()\n",
    "                    processing_time = float(machine_parts[1].strip())\n",
    "                    cost = float(machine_parts[2].strip())\n",
    "\n",
    "                    # データを辞書に格納\n",
    "                    machine_list.append(machine_name)\n",
    "                    machine_processing_time[machine_name] = int(processing_time)\n",
    "                    machine_cost[machine_name] = int(cost)\n",
    "\n",
    "                resource_m[resource_id] = machine_list\n",
    "\n",
    "    return resource_m, machine_processing_time, machine_cost\n",
    "\n"
   ]
  },
  {
   "cell_type": "code",
   "execution_count": 36,
   "metadata": {},
   "outputs": [],
   "source": [
    "file_path = './FSP.xml'\n",
    "resource_m, machine_processing_time, machine_cost = parse_resource_data(file_path)"
   ]
  },
  {
   "cell_type": "code",
   "execution_count": 37,
   "metadata": {},
   "outputs": [
    {
     "data": {
      "text/plain": [
       "{'R0': ['m11', 'm12'], 'R1': ['m21', 'm22'], 'R2': ['m31', 'm32']}"
      ]
     },
     "execution_count": 37,
     "metadata": {},
     "output_type": "execute_result"
    }
   ],
   "source": [
    "resource_m"
   ]
  },
  {
   "cell_type": "code",
   "execution_count": 38,
   "metadata": {},
   "outputs": [
    {
     "data": {
      "text/plain": [
       "{'m11': 1, 'm12': 2, 'm21': 3, 'm22': 1, 'm31': 1, 'm32': 3}"
      ]
     },
     "execution_count": 38,
     "metadata": {},
     "output_type": "execute_result"
    }
   ],
   "source": [
    "machine_processing_time"
   ]
  },
  {
   "cell_type": "code",
   "execution_count": 39,
   "metadata": {},
   "outputs": [
    {
     "data": {
      "text/plain": [
       "{'m11': 10, 'm12': 14, 'm21': 13, 'm22': 10, 'm31': 12, 'm32': 10}"
      ]
     },
     "execution_count": 39,
     "metadata": {},
     "output_type": "execute_result"
    }
   ],
   "source": [
    "machine_cost"
   ]
  }
 ],
 "metadata": {
  "kernelspec": {
   "display_name": "3.10.14",
   "language": "python",
   "name": "python3"
  },
  "language_info": {
   "codemirror_mode": {
    "name": "ipython",
    "version": 3
   },
   "file_extension": ".py",
   "mimetype": "text/x-python",
   "name": "python",
   "nbconvert_exporter": "python",
   "pygments_lexer": "ipython3",
   "version": "3.10.14"
  }
 },
 "nbformat": 4,
 "nbformat_minor": 2
}
