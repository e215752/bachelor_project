{
 "cells": [
  {
   "cell_type": "code",
   "execution_count": 1,
   "metadata": {
    "scrolled": true
   },
   "outputs": [
    {
     "name": "stdout",
     "output_type": "stream",
     "text": [
      "Python 3.10.14\n"
     ]
    }
   ],
   "source": [
    "!python3 --version"
   ]
  },
  {
   "cell_type": "code",
   "execution_count": 2,
   "metadata": {
    "scrolled": true
   },
   "outputs": [
    {
     "name": "stdout",
     "output_type": "stream",
     "text": [
      "Requirement already satisfied: pyqubo in /Users/aaaaa/.pyenv/versions/3.10.14/lib/python3.10/site-packages (1.4.0)\n",
      "Requirement already satisfied: openjij in /Users/aaaaa/.pyenv/versions/3.10.14/lib/python3.10/site-packages (0.9.2)\n",
      "Requirement already satisfied: numpy>=1.17.3 in /Users/aaaaa/.pyenv/versions/3.10.14/lib/python3.10/site-packages (from pyqubo) (1.26.4)\n",
      "Requirement already satisfied: dimod<0.13,>=0.9.14 in /Users/aaaaa/.pyenv/versions/3.10.14/lib/python3.10/site-packages (from pyqubo) (0.12.15)\n",
      "Requirement already satisfied: dwave-neal>=0.5.7 in /Users/aaaaa/.pyenv/versions/3.10.14/lib/python3.10/site-packages (from pyqubo) (0.6.0)\n",
      "Requirement already satisfied: Deprecated>=1.2.12 in /Users/aaaaa/.pyenv/versions/3.10.14/lib/python3.10/site-packages (from pyqubo) (1.2.14)\n",
      "Requirement already satisfied: six>=1.15.0 in /Users/aaaaa/.pyenv/versions/3.10.14/lib/python3.10/site-packages (from pyqubo) (1.16.0)\n",
      "Requirement already satisfied: scipy<1.12.0,>=1.7.3 in /Users/aaaaa/.pyenv/versions/3.10.14/lib/python3.10/site-packages (from openjij) (1.11.4)\n",
      "Requirement already satisfied: requests<2.32.0,>=2.28.0 in /Users/aaaaa/.pyenv/versions/3.10.14/lib/python3.10/site-packages (from openjij) (2.31.0)\n",
      "Requirement already satisfied: jij-cimod<1.7.0,>=1.6.0 in /Users/aaaaa/.pyenv/versions/3.10.14/lib/python3.10/site-packages (from openjij) (1.6.2)\n",
      "Requirement already satisfied: typing-extensions>=4.2.0 in /Users/aaaaa/.pyenv/versions/3.10.14/lib/python3.10/site-packages (from openjij) (4.12.2)\n",
      "Requirement already satisfied: wrapt<2,>=1.10 in /Users/aaaaa/.pyenv/versions/3.10.14/lib/python3.10/site-packages (from Deprecated>=1.2.12->pyqubo) (1.16.0)\n",
      "Requirement already satisfied: dwave-samplers<2.0.0,>=1.0.0 in /Users/aaaaa/.pyenv/versions/3.10.14/lib/python3.10/site-packages (from dwave-neal>=0.5.7->pyqubo) (1.2.0)\n",
      "Requirement already satisfied: charset-normalizer<4,>=2 in /Users/aaaaa/.pyenv/versions/3.10.14/lib/python3.10/site-packages (from requests<2.32.0,>=2.28.0->openjij) (3.3.2)\n",
      "Requirement already satisfied: idna<4,>=2.5 in /Users/aaaaa/.pyenv/versions/3.10.14/lib/python3.10/site-packages (from requests<2.32.0,>=2.28.0->openjij) (3.7)\n",
      "Requirement already satisfied: urllib3<3,>=1.21.1 in /Users/aaaaa/.pyenv/versions/3.10.14/lib/python3.10/site-packages (from requests<2.32.0,>=2.28.0->openjij) (2.2.2)\n",
      "Requirement already satisfied: certifi>=2017.4.17 in /Users/aaaaa/.pyenv/versions/3.10.14/lib/python3.10/site-packages (from requests<2.32.0,>=2.28.0->openjij) (2024.6.2)\n",
      "Requirement already satisfied: networkx>=2.4.0 in /Users/aaaaa/.pyenv/versions/3.10.14/lib/python3.10/site-packages (from dwave-samplers<2.0.0,>=1.0.0->dwave-neal>=0.5.7->pyqubo) (3.3)\n"
     ]
    }
   ],
   "source": [
    "!pip install pyqubo openjij"
   ]
  },
  {
   "cell_type": "code",
   "execution_count": 7,
   "metadata": {},
   "outputs": [
    {
     "name": "stdout",
     "output_type": "stream",
     "text": [
      "/Users/aaaaa/.pyenv/versions/3.10.14/bin/pip\n"
     ]
    }
   ],
   "source": [
    "!which pip"
   ]
  },
  {
   "cell_type": "code",
   "execution_count": 1,
   "metadata": {},
   "outputs": [],
   "source": [
    "from pyqubo import Array, Placeholder, solve_ising, Constraint, SubH, Model, Binary\n",
    "import re, random, math\n",
    "import numpy as np\n",
    "import openjij as oj\n",
    "import time "
   ]
  },
  {
   "cell_type": "code",
   "execution_count": 2,
   "metadata": {},
   "outputs": [],
   "source": [
    "# resourceに番号を割り当てる\n",
    "def assign_resource_num(resource):\n",
    "    resource_num = {}\n",
    "    cnt = 0\n",
    "    for i in resource:\n",
    "        for j in resource[i]:\n",
    "            resource_num[j] = cnt\n",
    "            cnt += 1\n",
    "    return resource_num"
   ]
  },
  {
   "cell_type": "code",
   "execution_count": 3,
   "metadata": {},
   "outputs": [],
   "source": [
    "# resource_m = {'R0':['m11','m12'],'R1':['m21','m22','m23'],'R2':['m31','m32','m33','m34','m35','m36']}\n",
    "# resource_t = {'R0':['t11','t21','t31','t41'],'R1':['t12','t22','t32','t42'],\n",
    "#               'R2':['t13','t23','t33','t43']}\n",
    "\n",
    "# place = [['p11','p12','p13','p14'],['p21','p22','p23','p24'],['p31','p32','p33','p34'],['p41','p42','p43','p44']]\n",
    "\n",
    "# job = [['t11','t12','t13'],['t21','t22','t23'],['t31','t32','t33'],['t41','t42','t43']]\n",
    "\n",
    "# machine_processing_time = {'m11':1,'m12':2,'m21':3,'m22':1,'m23':2,'m31':1,'m32':3,'m33':2,\n",
    "#                           'm34':2,'m35':1,'m36':2}\n",
    "\n",
    "# machine_cost = {'m11':10,'m12':14,'m21':13,'m22':10,'m23':10,'m31':12,'m32':10,'m33':9,\n",
    "#                           'm34':12,'m35':14,'m36':15}\n",
    "\n",
    "# import random\n",
    "\n",
    "# # Machine keys\n",
    "# machine_keys = ['m11', 'm12', 'm21', 'm22', 'm23', 'm31', 'm32', 'm33', 'm34', 'm35', 'm36']\n",
    "\n",
    "# # Generate random processing times and costs\n",
    "# machine_processing_time = {key: random.randint(1, 3) for key in machine_keys}  \n",
    "# machine_cost = {key: random.randint(9, 15) for key in machine_keys}  \n",
    "\n",
    "# print(\"Machine Processing Time:\", machine_processing_time)\n",
    "# print(\"Machine Cost:\", machine_cost)\n",
    "\n",
    "# resource_num = assign_resource_num(resource_m)\n",
    "\n",
    "# resource_num"
   ]
  },
  {
   "cell_type": "code",
   "execution_count": 4,
   "metadata": {},
   "outputs": [],
   "source": [
    "# スケジューリング問題のjobリソースを生成\n",
    "def generate_jobs_and_resources(num_jobs, seed=None):\n",
    "    resource_t = {'R0': [], 'R1': [], 'R2': []}\n",
    "    place = []\n",
    "    job = []\n",
    "    job_tasks = {}  # タスク長を格納する辞書\n",
    "\n",
    "    # シードを設定（指定された場合のみ）\n",
    "    if seed is not None:\n",
    "        random.seed(seed)\n",
    "\n",
    "    for i in range(1, num_jobs + 1):\n",
    "        t11 = f't{i}1'\n",
    "        t12 = f't{i}2'\n",
    "        t13 = f't{i}3'\n",
    "\n",
    "        job.append([t11, t12, t13])\n",
    "\n",
    "        resource_t['R0'].append(t11)\n",
    "        resource_t['R1'].append(t12)\n",
    "        resource_t['R2'].append(t13)\n",
    "\n",
    "        place.append([f'p{i}1', f'p{i}2', f'p{i}3', f'p{i}4'])\n",
    "\n",
    "        # 各タスクに1から10の範囲でランダムなタスク長を割り当てる\n",
    "        job_tasks[t11] = random.randint(1, 10)  # t11にランダムなタスク長を割り当て\n",
    "        job_tasks[t12] = random.randint(1, 10)  # t12にランダムなタスク長を割り当て\n",
    "        job_tasks[t13] = random.randint(1, 10)  # t13にランダムなタスク長を割り当て\n",
    "\n",
    "    return resource_t, place, job, job_tasks"
   ]
  },
  {
   "cell_type": "code",
   "execution_count": 5,
   "metadata": {},
   "outputs": [
    {
     "data": {
      "text/plain": [
       "{'m11': 0, 'm12': 1, 'm21': 2, 'm22': 3, 'm31': 4, 'm32': 5}"
      ]
     },
     "execution_count": 5,
     "metadata": {},
     "output_type": "execute_result"
    }
   ],
   "source": [
    "resource_m = {'R0': ['m11', 'm12'], 'R1': ['m21', 'm22'], 'R2': ['m31', 'm32']}\n",
    "machine_processing_time = {'m11': 1, 'm12': 2, 'm21': 3, 'm22': 1, 'm31': 1, 'm32': 3}\n",
    "machine_cost = {'m11': 10, 'm12': 14, 'm21': 13, 'm22': 10, 'm31': 12, 'm32': 10}\n",
    "\n",
    "resource_num = assign_resource_num(resource_m)\n",
    "\n",
    "resource_num"
   ]
  },
  {
   "cell_type": "code",
   "execution_count": 6,
   "metadata": {},
   "outputs": [],
   "source": [
    "# ジョブ数を指定して生成\n",
    "num_jobs = 5\n",
    "resource_t, place, job, job_tasks = generate_jobs_and_resources(num_jobs, seed=42)\n",
    "time = 30"
   ]
  },
  {
   "cell_type": "code",
   "execution_count": 7,
   "metadata": {},
   "outputs": [
    {
     "data": {
      "text/plain": [
       "{'t11': 0,\n",
       " 't12': 1,\n",
       " 't13': 2,\n",
       " 't21': 3,\n",
       " 't22': 4,\n",
       " 't23': 5,\n",
       " 't31': 6,\n",
       " 't32': 7,\n",
       " 't33': 8,\n",
       " 't41': 9,\n",
       " 't42': 10,\n",
       " 't43': 11,\n",
       " 't51': 12,\n",
       " 't52': 13,\n",
       " 't53': 14}"
      ]
     },
     "execution_count": 7,
     "metadata": {},
     "output_type": "execute_result"
    }
   ],
   "source": [
    "# トランジションに番号を割り当てる\n",
    "transition_num = {}\n",
    "cnt = 0\n",
    "for i in job:\n",
    "    for j in i:\n",
    "        transition_num[j] = cnt\n",
    "        cnt += 1\n",
    "transition_num"
   ]
  },
  {
   "cell_type": "code",
   "execution_count": 8,
   "metadata": {},
   "outputs": [],
   "source": [
    "t_num = len(transition_num)\n",
    "r_num = len(resource_num)\n",
    "time = 30\n",
    "x = Array.create('x', (time,t_num,r_num), 'BINARY') # binaryの宣言"
   ]
  },
  {
   "cell_type": "markdown",
   "metadata": {},
   "source": [
    "## Binary変数\n",
    "x(時間,トランジション,マシーン)"
   ]
  },
  {
   "cell_type": "code",
   "execution_count": 9,
   "metadata": {},
   "outputs": [],
   "source": [
    "def cal_min_processing(resource_m, machine_processing_time):\n",
    "    \"\"\"\n",
    "    各リソースマシーンのprocessing timeの最小を求める\n",
    "    Args:\n",
    "        resource_m : リソースマシーンの辞書型\n",
    "        machine_processing_time : マシーンの処理時間の辞書型\n",
    "\n",
    "    Returns:\n",
    "        R0,R1,R2それぞれのprocessing timeの最小時間を求める\n",
    "    \"\"\"\n",
    "    min_m_time = []\n",
    "    for idx,v in enumerate(resource_m):\n",
    "        _min = 10000\n",
    "        for i in resource_m[v]:\n",
    "            _min = min(_min,machine_processing_time[i])\n",
    "        min_m_time.append(_min)\n",
    "    return min_m_time"
   ]
  },
  {
   "cell_type": "code",
   "execution_count": 10,
   "metadata": {},
   "outputs": [],
   "source": [
    "def cal_max_processing(resource_m, machine_processing_time):\n",
    "    \"\"\"\n",
    "    各リソースマシーンのprocessing timeの最大を求める\n",
    "    Args:\n",
    "        resource_m : リソースマシーンの辞書型\n",
    "        machine_processing_time : マシーンの処理時間の辞書型\n",
    "\n",
    "    Returns:\n",
    "        R0,R1,R2それぞれのprocessing timeの最大時間を求める\n",
    "    \"\"\"\n",
    "    max_m_time = []\n",
    "    for idx,v in enumerate(resource_m):\n",
    "        _min = -1\n",
    "        for i in resource_m[v]:\n",
    "            _min = max(_min,machine_processing_time[i])\n",
    "        max_m_time.append(_min)\n",
    "    return max_m_time"
   ]
  },
  {
   "cell_type": "code",
   "execution_count": 11,
   "metadata": {},
   "outputs": [],
   "source": [
    "def calc_upper_limit(step, jobs, limit_time, _max):\n",
    "    \"\"\"\n",
    "    現在のステップにおける処理時間の上限時間の計算\n",
    "    Args:\n",
    "        step : 現在のステップ\n",
    "        jobs : 各jobのタスクのリスト\n",
    "        limit_time : 制限時間\n",
    "        _max : 各リソースマシーンのprocessing timeの最大値のリスト(max_list)\n",
    "\n",
    "    Returns:\n",
    "    現在のステップの上限時間を求める\n",
    "    \"\"\"\n",
    "    p_time = 0\n",
    "    for job in jobs: #jobはstr型\n",
    "        if len(job) >= 4:\n",
    "            if int(job[3]) >= step:\n",
    "                p_time += _max[int(job[3])-1]\n",
    "        elif int(job[2]) >= step:\n",
    "                p_time += _max[int(job[2])-1]\n",
    "    return limit_time - p_time"
   ]
  },
  {
   "cell_type": "code",
   "execution_count": 12,
   "metadata": {},
   "outputs": [
    {
     "data": {
      "text/plain": [
       "{'t11': [0, 22],\n",
       " 't12': [1, 24],\n",
       " 't13': [2, 27],\n",
       " 't21': [0, 22],\n",
       " 't22': [1, 24],\n",
       " 't23': [2, 27],\n",
       " 't31': [0, 22],\n",
       " 't32': [1, 24],\n",
       " 't33': [2, 27],\n",
       " 't41': [0, 22],\n",
       " 't42': [1, 24],\n",
       " 't43': [2, 27],\n",
       " 't51': [0, 22],\n",
       " 't52': [1, 24],\n",
       " 't53': [2, 27]}"
      ]
     },
     "execution_count": 12,
     "metadata": {},
     "output_type": "execute_result"
    }
   ],
   "source": [
    "# 各トランジションの処理時間の最大・最小値を求める\n",
    "range_trantision_ptime = {}\n",
    "min_list = cal_min_processing(resource_m, machine_processing_time)\n",
    "max_list = cal_max_processing(resource_m, machine_processing_time)\n",
    "\n",
    "#各タスクの下限と上限時間\n",
    "#'t11': [0, 22] t11は最低0秒、最高22秒で開始しなければならない\n",
    "for idx, j in enumerate(job):\n",
    "    for i in range(len(j)):\n",
    "        range_time = []\n",
    "        lb = sum(min_list[0:i]) if i != 0 else 0\n",
    "        range_time.append(lb)\n",
    "        ub = calc_upper_limit(i+1, j, time, max_list)\n",
    "        range_time.append(ub)\n",
    "        range_trantision_ptime[j[i]] = range_time\n",
    "range_trantision_ptime"
   ]
  },
  {
   "cell_type": "markdown",
   "metadata": {},
   "source": [
    "## H_firing"
   ]
  },
  {
   "cell_type": "code",
   "execution_count": 13,
   "metadata": {},
   "outputs": [],
   "source": [
    "#制約\n",
    "H_firing = 0.0\n",
    "for idx, j in enumerate(job):\n",
    "    for i in range(len(j)):\n",
    "        sigma_h_firing = 0.0\n",
    "        for r in resource_m['R'+str(i)]:\n",
    "            lb = range_trantision_ptime[j[i]][0]\n",
    "            ub = range_trantision_ptime[j[i]][1]\n",
    "            for k in range(lb,ub):\n",
    "                t = transition_num['t'+str(idx+1)+str(i+1)]\n",
    "                sigma_h_firing += x[k,t,resource_num[r]]\n",
    "        H_firing += Constraint((1-sigma_h_firing)**2,label=\"one_fired_t{}{}{}\".format(idx+1,i+1,resource_num[r]))"
   ]
  },
  {
   "cell_type": "markdown",
   "metadata": {},
   "source": [
    "## H_conflict"
   ]
  },
  {
   "cell_type": "code",
   "execution_count": 14,
   "metadata": {},
   "outputs": [],
   "source": [
    "#制約\n",
    "H_conflict = 0.0\n",
    "\n",
    "for i in range(len(resource_m)):\n",
    "    for r in resource_m['R'+str(i)]:\n",
    "        for j1 in range(len(job)):\n",
    "            t1 = transition_num[job[j1][i]]\n",
    "            for j2 in range(len(job)):\n",
    "                t2 = transition_num[job[j2][i]]\n",
    "                if j1 != j2:\n",
    "                    lb = range_trantision_ptime[job[j1][i]][0]\n",
    "                    ub = range_trantision_ptime[job[j1][i]][1]\n",
    "                    \n",
    "                    # j1 のタスク処理時間を計算\n",
    "                    task_length = job_tasks[job[j1][i]]\n",
    "                    processing_time = math.ceil(task_length / machine_processing_time[r])\n",
    "                    \n",
    "                    for k1 in range(lb,ub):\n",
    "                        fd = k1 + processing_time\n",
    "                        for k2 in range(range_trantision_ptime[job[j2][i]][0],range_trantision_ptime[job[j2][i]][1]):\n",
    "                            \n",
    "                            if k1 <= k2 and k2 < fd:\n",
    "                                H_conflict += Constraint((x[k1,t1,resource_num[r]])*(x[k2,t2,resource_num[r]]), label=\"conflict{}\".format(t1))\n"
   ]
  },
  {
   "cell_type": "markdown",
   "metadata": {},
   "source": [
    "## H_precedence"
   ]
  },
  {
   "cell_type": "code",
   "execution_count": 15,
   "metadata": {},
   "outputs": [],
   "source": [
    "#制約\n",
    "H_precedence = 0.0\n",
    "\n",
    "for idx, j in enumerate(job):\n",
    "    for i in range(len(j)):\n",
    "        lb = range_trantision_ptime[j[i]][0]\n",
    "        ub = range_trantision_ptime[j[i]][1]\n",
    "        for r1 in resource_m['R'+str(i)]:\n",
    "            if i+1 < len(j):\n",
    "                for r2 in resource_m['R'+str((i+1))]:\n",
    "                    t1 = transition_num['t'+str(idx+1)+str(i+1)]\n",
    "                    t2 = transition_num['t'+str(idx+1)+str(i+2)]\n",
    "                    \n",
    "                    task_length = job_tasks['t'+str(idx+1)+str(i+1)] # 現在のタスクの長さ\n",
    "                    processing_time = math.ceil(task_length / machine_processing_time[r1])\n",
    "                            \n",
    "                    for k1 in range(lb, ub):\n",
    "                        fd = k1 + processing_time\n",
    "\n",
    "                        for k2 in range(min(fd, time)):  # k2をtimeに制限\n",
    "                            H_precedence += Constraint((x[k1,t1,resource_num[r1]])*(x[k2,t2,resource_num[r2]]), \n",
    "                                                       label=\"precedence{}{}{}{}\".format(k1,t1,k2,t2))\n"
   ]
  },
  {
   "cell_type": "markdown",
   "metadata": {},
   "source": [
    "## H_resourceCost"
   ]
  },
  {
   "cell_type": "code",
   "execution_count": 16,
   "metadata": {},
   "outputs": [],
   "source": [
    "#目的関数\n",
    "H_resourceCost = 0.0\n",
    "\n",
    "for i in range(len(resource_m)):\n",
    "    for r in resource_m['R'+str(i)]:\n",
    "        r_num = resource_num[r]\n",
    "        rc = machine_cost[r]\n",
    "        fd = machine_processing_time[r]\n",
    "        for j in range(len(job)):\n",
    "            lb = range_trantision_ptime['t'+str(j+1)+str(i+1)][0]\n",
    "            ub = range_trantision_ptime['t'+str(j+1)+str(i+1)][1]\n",
    "            t = transition_num['t'+str(j+1)+str(i+1)]\n",
    "            for k in range(lb,ub):\n",
    "                H_resourceCost += rc*fd*x[k,t,r_num]"
   ]
  },
  {
   "cell_type": "markdown",
   "metadata": {},
   "source": [
    "## H_waitingTime"
   ]
  },
  {
   "cell_type": "code",
   "execution_count": 17,
   "metadata": {},
   "outputs": [],
   "source": [
    "#目的関数\n",
    "H_waitingTime = 0.0\n",
    "\n",
    "for j in range(len(job)):\n",
    "    for i in range(len(job[j])-1):\n",
    "        #後のタスク\n",
    "        lb1 = range_trantision_ptime['t'+str(j+1)+str(i+2)][0]\n",
    "        ub1 = range_trantision_ptime['t'+str(j+1)+str(i+2)][1]\n",
    "        t1 = transition_num['t'+str(j+1)+str(i+2)]\n",
    "        #前のタスク\n",
    "        lb2 = range_trantision_ptime['t'+str(j+1)+str(i+1)][0]\n",
    "        ub2 = range_trantision_ptime['t'+str(j+1)+str(i+1)][1]\n",
    "        t2 = transition_num['t'+str(j+1)+str(i+1)]\n",
    "        for k1 in range(lb1,ub1):\n",
    "            for r1 in resource_m['R'+str(i+1)]:\n",
    "                r_num1 = resource_num[r1]\n",
    "                for k2 in range(lb2,ub2):\n",
    "                    for r2 in resource_m['R'+str(i)]:\n",
    "                        fd = k2 + machine_processing_time[r2]\n",
    "                        r_num2 = resource_num[r2]\n",
    "                        if k1 - fd >= 0:\n",
    "                            H_waitingTime += (k1 - fd) * x[k2,t2,r_num2] * x[k1,t1,r_num1]\n",
    "                            "
   ]
  },
  {
   "cell_type": "markdown",
   "metadata": {},
   "source": [
    "## ベイズ最適化"
   ]
  },
  {
   "cell_type": "code",
   "execution_count": 18,
   "metadata": {},
   "outputs": [
    {
     "name": "stderr",
     "output_type": "stream",
     "text": [
      "/Users/aaaaa/.pyenv/versions/3.10.14/lib/python3.10/site-packages/tqdm/auto.py:21: TqdmWarning: IProgress not found. Please update jupyter and ipywidgets. See https://ipywidgets.readthedocs.io/en/stable/user_install.html\n",
      "  from .autonotebook import tqdm as notebook_tqdm\n"
     ]
    }
   ],
   "source": [
    "import pandas as pd\n",
    "import optuna\n",
    "import openjij as oj\n",
    "import re\n",
    "\n",
    "A = Placeholder(\"A\")\n",
    "B = Placeholder(\"B\")\n",
    "C = Placeholder(\"C\")\n",
    "\n",
    "# 結果を保存するためのリスト\n",
    "results = []\n",
    "decoded_results = []  # sort_ans を保存するためのリスト\n",
    "\n",
    "def extractVariable(s):  \n",
    "    literal = re.split('[\\[\\]]', s)\n",
    "    while '' in literal:\n",
    "        literal.remove('')       \n",
    "    return literal\n",
    "\n",
    "def objective(trial):\n",
    "    D = trial.suggest_float(\"D\", 1, 30)\n",
    "    E = trial.suggest_float(\"E\", 1, 50)\n",
    "\n",
    "    H = (\n",
    "        A * SubH(H_firing, \"SubH1\") +\n",
    "        B * SubH(H_conflict, \"SubH2\") +\n",
    "        C * SubH(H_precedence, \"SubH3\") +\n",
    "        D * SubH(H_resourceCost, \"SubH4\") +\n",
    "        E * SubH(H_waitingTime, \"SubH5\")\n",
    "    )\n",
    "    model = H.compile()\n",
    "    feed_dict = {\"A\": 600, \"B\": 150, \"C\": 250, \"D\": D, \"E\": E}\n",
    "    bqm = model.to_bqm(feed_dict=feed_dict)\n",
    "    \n",
    "    # アニーリング回数\n",
    "    num_iterations = 100\n",
    "\n",
    "    # QUBOを辞書形式に変換\n",
    "    qubo_dict = bqm.to_qubo()[0]\n",
    "\n",
    "    sampler = oj.SASampler()\n",
    "    response = sampler.sample_qubo(qubo_dict, num_reads=num_iterations)\n",
    "\n",
    "    # サンプリング結果をデコード\n",
    "    decoded_samples = model.decode_sampleset(response, feed_dict=feed_dict)\n",
    "\n",
    "    # 最良のサンプルを選択\n",
    "    best_sample = min(decoded_samples, key=lambda x: x.energy)\n",
    "\n",
    "    # サンプルから値が1の変数を抽出\n",
    "    keys = [k for k, v in best_sample.sample.items() if v == 1]\n",
    "    \n",
    "    ans = []\n",
    "\n",
    "    for k in keys:\n",
    "        ans.append(extractVariable(k))\n",
    "\n",
    "    sort_ans = list(range(len(ans)))\n",
    "\n",
    "    for i in ans:\n",
    "        sort_ans[int(i[2])] = i\n",
    "\n",
    "    # sort_ans\n",
    "    \n",
    "    # ans = []\n",
    "    # for k in keys:\n",
    "    #     ans.append(extractVariable(k))\n",
    "\n",
    "    # sort_ans = list(range(len(ans)))\n",
    "    # for i in ans:\n",
    "    #     if isinstance(i, list) and len(i) >= 3:\n",
    "    #         sort_ans[int(i[2])] = i\n",
    "\n",
    "    # sort_ans をリストに保存\n",
    "    decoded_results.append({\n",
    "        \"trial\": trial.number,\n",
    "        \"energy\": best_sample.energy,\n",
    "        \"sort_ans\": sort_ans  # ソートされたデコード結果\n",
    "    })\n",
    "\n",
    "    # 他の結果を保存\n",
    "    results.append({\n",
    "        \"trial\": trial.number,\n",
    "        \"num_qubits\": len(bqm.variables),\n",
    "        \"energy\": best_sample.energy,\n",
    "        \"feasible\": all(best_sample.subh.get(i, float('inf')) == 0 for i in ['SubH1', 'SubH2', 'SubH3']),\n",
    "        \"SubH1\": best_sample.subh.get('SubH1', None),\n",
    "        \"SubH2\": best_sample.subh.get('SubH2', None),\n",
    "        \"SubH3\": best_sample.subh.get('SubH3', None),\n",
    "        \"SubH4\": best_sample.subh.get('SubH4', None),\n",
    "        \"SubH5\": best_sample.subh.get('SubH5', None),\n",
    "        \"D\": D,\n",
    "        \"E\": E\n",
    "    })\n",
    "\n",
    "    # 最良サンプルのエネルギーを返す\n",
    "    return best_sample.energy\n",
    "\n"
   ]
  },
  {
   "cell_type": "code",
   "execution_count": 19,
   "metadata": {},
   "outputs": [
    {
     "name": "stderr",
     "output_type": "stream",
     "text": [
      "[I 2025-01-19 15:42:27,845] A new study created in memory with name: no-name-ae2e2594-922e-44cb-855f-2f4bc94c7fbe\n",
      "[W 2025-01-19 15:42:35,696] Trial 0 failed with parameters: {'D': 5.742203164850177, 'E': 46.679986205838134} because of the following error: The number of the values 1 did not match the number of the objectives 2.\n",
      "[W 2025-01-19 15:42:35,696] Trial 0 failed with value 2435.3191504859533.\n",
      "[W 2025-01-19 15:42:42,276] Trial 1 failed with parameters: {'D': 28.28123269371745, 'E': 3.762300394223116} because of the following error: KeyboardInterrupt().\n",
      "Traceback (most recent call last):\n",
      "  File \"/Users/aaaaa/.pyenv/versions/3.10.14/lib/python3.10/site-packages/optuna/study/_optimize.py\", line 196, in _run_trial\n",
      "    value_or_values = func(trial)\n",
      "  File \"/var/folders/jk/qk90jfkj31l89klf8w4dfwnh0000gn/T/ipykernel_2364/3988719537.py\", line 45, in objective\n",
      "    decoded_samples = model.decode_sampleset(response, feed_dict=feed_dict)\n",
      "KeyboardInterrupt\n",
      "[W 2025-01-19 15:42:42,277] Trial 1 failed with value None.\n"
     ]
    },
    {
     "ename": "KeyboardInterrupt",
     "evalue": "",
     "output_type": "error",
     "traceback": [
      "\u001b[0;31m---------------------------------------------------------------------------\u001b[0m",
      "\u001b[0;31mKeyboardInterrupt\u001b[0m                         Traceback (most recent call last)",
      "Cell \u001b[0;32mIn[19], line 3\u001b[0m\n\u001b[1;32m      1\u001b[0m \u001b[38;5;66;03m# Optuna の最適化を実行\u001b[39;00m\n\u001b[1;32m      2\u001b[0m study \u001b[38;5;241m=\u001b[39m optuna\u001b[38;5;241m.\u001b[39mcreate_study(directions\u001b[38;5;241m=\u001b[39m(\u001b[38;5;124m'\u001b[39m\u001b[38;5;124mminimize\u001b[39m\u001b[38;5;124m'\u001b[39m, \u001b[38;5;124m'\u001b[39m\u001b[38;5;124mminimize\u001b[39m\u001b[38;5;124m'\u001b[39m))\n\u001b[0;32m----> 3\u001b[0m \u001b[43mstudy\u001b[49m\u001b[38;5;241;43m.\u001b[39;49m\u001b[43moptimize\u001b[49m\u001b[43m(\u001b[49m\u001b[43mobjective\u001b[49m\u001b[43m,\u001b[49m\u001b[43m \u001b[49m\u001b[43mn_trials\u001b[49m\u001b[38;5;241;43m=\u001b[39;49m\u001b[38;5;241;43m50\u001b[39;49m\u001b[43m)\u001b[49m\n\u001b[1;32m      5\u001b[0m \u001b[38;5;66;03m# 結果をデータフレームに変換\u001b[39;00m\n\u001b[1;32m      6\u001b[0m df_results \u001b[38;5;241m=\u001b[39m pd\u001b[38;5;241m.\u001b[39mDataFrame(results)\n",
      "File \u001b[0;32m~/.pyenv/versions/3.10.14/lib/python3.10/site-packages/optuna/study/study.py:451\u001b[0m, in \u001b[0;36mStudy.optimize\u001b[0;34m(self, func, n_trials, timeout, n_jobs, catch, callbacks, gc_after_trial, show_progress_bar)\u001b[0m\n\u001b[1;32m    348\u001b[0m \u001b[38;5;28;01mdef\u001b[39;00m \u001b[38;5;21moptimize\u001b[39m(\n\u001b[1;32m    349\u001b[0m     \u001b[38;5;28mself\u001b[39m,\n\u001b[1;32m    350\u001b[0m     func: ObjectiveFuncType,\n\u001b[0;32m   (...)\u001b[0m\n\u001b[1;32m    357\u001b[0m     show_progress_bar: \u001b[38;5;28mbool\u001b[39m \u001b[38;5;241m=\u001b[39m \u001b[38;5;28;01mFalse\u001b[39;00m,\n\u001b[1;32m    358\u001b[0m ) \u001b[38;5;241m-\u001b[39m\u001b[38;5;241m>\u001b[39m \u001b[38;5;28;01mNone\u001b[39;00m:\n\u001b[1;32m    359\u001b[0m \u001b[38;5;250m    \u001b[39m\u001b[38;5;124;03m\"\"\"Optimize an objective function.\u001b[39;00m\n\u001b[1;32m    360\u001b[0m \n\u001b[1;32m    361\u001b[0m \u001b[38;5;124;03m    Optimization is done by choosing a suitable set of hyperparameter values from a given\u001b[39;00m\n\u001b[0;32m   (...)\u001b[0m\n\u001b[1;32m    449\u001b[0m \u001b[38;5;124;03m            If nested invocation of this method occurs.\u001b[39;00m\n\u001b[1;32m    450\u001b[0m \u001b[38;5;124;03m    \"\"\"\u001b[39;00m\n\u001b[0;32m--> 451\u001b[0m     \u001b[43m_optimize\u001b[49m\u001b[43m(\u001b[49m\n\u001b[1;32m    452\u001b[0m \u001b[43m        \u001b[49m\u001b[43mstudy\u001b[49m\u001b[38;5;241;43m=\u001b[39;49m\u001b[38;5;28;43mself\u001b[39;49m\u001b[43m,\u001b[49m\n\u001b[1;32m    453\u001b[0m \u001b[43m        \u001b[49m\u001b[43mfunc\u001b[49m\u001b[38;5;241;43m=\u001b[39;49m\u001b[43mfunc\u001b[49m\u001b[43m,\u001b[49m\n\u001b[1;32m    454\u001b[0m \u001b[43m        \u001b[49m\u001b[43mn_trials\u001b[49m\u001b[38;5;241;43m=\u001b[39;49m\u001b[43mn_trials\u001b[49m\u001b[43m,\u001b[49m\n\u001b[1;32m    455\u001b[0m \u001b[43m        \u001b[49m\u001b[43mtimeout\u001b[49m\u001b[38;5;241;43m=\u001b[39;49m\u001b[43mtimeout\u001b[49m\u001b[43m,\u001b[49m\n\u001b[1;32m    456\u001b[0m \u001b[43m        \u001b[49m\u001b[43mn_jobs\u001b[49m\u001b[38;5;241;43m=\u001b[39;49m\u001b[43mn_jobs\u001b[49m\u001b[43m,\u001b[49m\n\u001b[1;32m    457\u001b[0m \u001b[43m        \u001b[49m\u001b[43mcatch\u001b[49m\u001b[38;5;241;43m=\u001b[39;49m\u001b[38;5;28;43mtuple\u001b[39;49m\u001b[43m(\u001b[49m\u001b[43mcatch\u001b[49m\u001b[43m)\u001b[49m\u001b[43m \u001b[49m\u001b[38;5;28;43;01mif\u001b[39;49;00m\u001b[43m \u001b[49m\u001b[38;5;28;43misinstance\u001b[39;49m\u001b[43m(\u001b[49m\u001b[43mcatch\u001b[49m\u001b[43m,\u001b[49m\u001b[43m \u001b[49m\u001b[43mIterable\u001b[49m\u001b[43m)\u001b[49m\u001b[43m \u001b[49m\u001b[38;5;28;43;01melse\u001b[39;49;00m\u001b[43m \u001b[49m\u001b[43m(\u001b[49m\u001b[43mcatch\u001b[49m\u001b[43m,\u001b[49m\u001b[43m)\u001b[49m\u001b[43m,\u001b[49m\n\u001b[1;32m    458\u001b[0m \u001b[43m        \u001b[49m\u001b[43mcallbacks\u001b[49m\u001b[38;5;241;43m=\u001b[39;49m\u001b[43mcallbacks\u001b[49m\u001b[43m,\u001b[49m\n\u001b[1;32m    459\u001b[0m \u001b[43m        \u001b[49m\u001b[43mgc_after_trial\u001b[49m\u001b[38;5;241;43m=\u001b[39;49m\u001b[43mgc_after_trial\u001b[49m\u001b[43m,\u001b[49m\n\u001b[1;32m    460\u001b[0m \u001b[43m        \u001b[49m\u001b[43mshow_progress_bar\u001b[49m\u001b[38;5;241;43m=\u001b[39;49m\u001b[43mshow_progress_bar\u001b[49m\u001b[43m,\u001b[49m\n\u001b[1;32m    461\u001b[0m \u001b[43m    \u001b[49m\u001b[43m)\u001b[49m\n",
      "File \u001b[0;32m~/.pyenv/versions/3.10.14/lib/python3.10/site-packages/optuna/study/_optimize.py:62\u001b[0m, in \u001b[0;36m_optimize\u001b[0;34m(study, func, n_trials, timeout, n_jobs, catch, callbacks, gc_after_trial, show_progress_bar)\u001b[0m\n\u001b[1;32m     60\u001b[0m \u001b[38;5;28;01mtry\u001b[39;00m:\n\u001b[1;32m     61\u001b[0m     \u001b[38;5;28;01mif\u001b[39;00m n_jobs \u001b[38;5;241m==\u001b[39m \u001b[38;5;241m1\u001b[39m:\n\u001b[0;32m---> 62\u001b[0m         \u001b[43m_optimize_sequential\u001b[49m\u001b[43m(\u001b[49m\n\u001b[1;32m     63\u001b[0m \u001b[43m            \u001b[49m\u001b[43mstudy\u001b[49m\u001b[43m,\u001b[49m\n\u001b[1;32m     64\u001b[0m \u001b[43m            \u001b[49m\u001b[43mfunc\u001b[49m\u001b[43m,\u001b[49m\n\u001b[1;32m     65\u001b[0m \u001b[43m            \u001b[49m\u001b[43mn_trials\u001b[49m\u001b[43m,\u001b[49m\n\u001b[1;32m     66\u001b[0m \u001b[43m            \u001b[49m\u001b[43mtimeout\u001b[49m\u001b[43m,\u001b[49m\n\u001b[1;32m     67\u001b[0m \u001b[43m            \u001b[49m\u001b[43mcatch\u001b[49m\u001b[43m,\u001b[49m\n\u001b[1;32m     68\u001b[0m \u001b[43m            \u001b[49m\u001b[43mcallbacks\u001b[49m\u001b[43m,\u001b[49m\n\u001b[1;32m     69\u001b[0m \u001b[43m            \u001b[49m\u001b[43mgc_after_trial\u001b[49m\u001b[43m,\u001b[49m\n\u001b[1;32m     70\u001b[0m \u001b[43m            \u001b[49m\u001b[43mreseed_sampler_rng\u001b[49m\u001b[38;5;241;43m=\u001b[39;49m\u001b[38;5;28;43;01mFalse\u001b[39;49;00m\u001b[43m,\u001b[49m\n\u001b[1;32m     71\u001b[0m \u001b[43m            \u001b[49m\u001b[43mtime_start\u001b[49m\u001b[38;5;241;43m=\u001b[39;49m\u001b[38;5;28;43;01mNone\u001b[39;49;00m\u001b[43m,\u001b[49m\n\u001b[1;32m     72\u001b[0m \u001b[43m            \u001b[49m\u001b[43mprogress_bar\u001b[49m\u001b[38;5;241;43m=\u001b[39;49m\u001b[43mprogress_bar\u001b[49m\u001b[43m,\u001b[49m\n\u001b[1;32m     73\u001b[0m \u001b[43m        \u001b[49m\u001b[43m)\u001b[49m\n\u001b[1;32m     74\u001b[0m     \u001b[38;5;28;01melse\u001b[39;00m:\n\u001b[1;32m     75\u001b[0m         \u001b[38;5;28;01mif\u001b[39;00m n_jobs \u001b[38;5;241m==\u001b[39m \u001b[38;5;241m-\u001b[39m\u001b[38;5;241m1\u001b[39m:\n",
      "File \u001b[0;32m~/.pyenv/versions/3.10.14/lib/python3.10/site-packages/optuna/study/_optimize.py:159\u001b[0m, in \u001b[0;36m_optimize_sequential\u001b[0;34m(study, func, n_trials, timeout, catch, callbacks, gc_after_trial, reseed_sampler_rng, time_start, progress_bar)\u001b[0m\n\u001b[1;32m    156\u001b[0m         \u001b[38;5;28;01mbreak\u001b[39;00m\n\u001b[1;32m    158\u001b[0m \u001b[38;5;28;01mtry\u001b[39;00m:\n\u001b[0;32m--> 159\u001b[0m     frozen_trial \u001b[38;5;241m=\u001b[39m \u001b[43m_run_trial\u001b[49m\u001b[43m(\u001b[49m\u001b[43mstudy\u001b[49m\u001b[43m,\u001b[49m\u001b[43m \u001b[49m\u001b[43mfunc\u001b[49m\u001b[43m,\u001b[49m\u001b[43m \u001b[49m\u001b[43mcatch\u001b[49m\u001b[43m)\u001b[49m\n\u001b[1;32m    160\u001b[0m \u001b[38;5;28;01mfinally\u001b[39;00m:\n\u001b[1;32m    161\u001b[0m     \u001b[38;5;66;03m# The following line mitigates memory problems that can be occurred in some\u001b[39;00m\n\u001b[1;32m    162\u001b[0m     \u001b[38;5;66;03m# environments (e.g., services that use computing containers such as GitHub Actions).\u001b[39;00m\n\u001b[1;32m    163\u001b[0m     \u001b[38;5;66;03m# Please refer to the following PR for further details:\u001b[39;00m\n\u001b[1;32m    164\u001b[0m     \u001b[38;5;66;03m# https://github.com/optuna/optuna/pull/325.\u001b[39;00m\n\u001b[1;32m    165\u001b[0m     \u001b[38;5;28;01mif\u001b[39;00m gc_after_trial:\n",
      "File \u001b[0;32m~/.pyenv/versions/3.10.14/lib/python3.10/site-packages/optuna/study/_optimize.py:247\u001b[0m, in \u001b[0;36m_run_trial\u001b[0;34m(study, func, catch)\u001b[0m\n\u001b[1;32m    240\u001b[0m         \u001b[38;5;28;01massert\u001b[39;00m \u001b[38;5;28;01mFalse\u001b[39;00m, \u001b[38;5;124m\"\u001b[39m\u001b[38;5;124mShould not reach.\u001b[39m\u001b[38;5;124m\"\u001b[39m\n\u001b[1;32m    242\u001b[0m \u001b[38;5;28;01mif\u001b[39;00m (\n\u001b[1;32m    243\u001b[0m     frozen_trial\u001b[38;5;241m.\u001b[39mstate \u001b[38;5;241m==\u001b[39m TrialState\u001b[38;5;241m.\u001b[39mFAIL\n\u001b[1;32m    244\u001b[0m     \u001b[38;5;129;01mand\u001b[39;00m func_err \u001b[38;5;129;01mis\u001b[39;00m \u001b[38;5;129;01mnot\u001b[39;00m \u001b[38;5;28;01mNone\u001b[39;00m\n\u001b[1;32m    245\u001b[0m     \u001b[38;5;129;01mand\u001b[39;00m \u001b[38;5;129;01mnot\u001b[39;00m \u001b[38;5;28misinstance\u001b[39m(func_err, catch)\n\u001b[1;32m    246\u001b[0m ):\n\u001b[0;32m--> 247\u001b[0m     \u001b[38;5;28;01mraise\u001b[39;00m func_err\n\u001b[1;32m    248\u001b[0m \u001b[38;5;28;01mreturn\u001b[39;00m frozen_trial\n",
      "File \u001b[0;32m~/.pyenv/versions/3.10.14/lib/python3.10/site-packages/optuna/study/_optimize.py:196\u001b[0m, in \u001b[0;36m_run_trial\u001b[0;34m(study, func, catch)\u001b[0m\n\u001b[1;32m    194\u001b[0m \u001b[38;5;28;01mwith\u001b[39;00m get_heartbeat_thread(trial\u001b[38;5;241m.\u001b[39m_trial_id, study\u001b[38;5;241m.\u001b[39m_storage):\n\u001b[1;32m    195\u001b[0m     \u001b[38;5;28;01mtry\u001b[39;00m:\n\u001b[0;32m--> 196\u001b[0m         value_or_values \u001b[38;5;241m=\u001b[39m \u001b[43mfunc\u001b[49m\u001b[43m(\u001b[49m\u001b[43mtrial\u001b[49m\u001b[43m)\u001b[49m\n\u001b[1;32m    197\u001b[0m     \u001b[38;5;28;01mexcept\u001b[39;00m exceptions\u001b[38;5;241m.\u001b[39mTrialPruned \u001b[38;5;28;01mas\u001b[39;00m e:\n\u001b[1;32m    198\u001b[0m         \u001b[38;5;66;03m# TODO(mamu): Handle multi-objective cases.\u001b[39;00m\n\u001b[1;32m    199\u001b[0m         state \u001b[38;5;241m=\u001b[39m TrialState\u001b[38;5;241m.\u001b[39mPRUNED\n",
      "Cell \u001b[0;32mIn[18], line 45\u001b[0m, in \u001b[0;36mobjective\u001b[0;34m(trial)\u001b[0m\n\u001b[1;32m     42\u001b[0m response \u001b[38;5;241m=\u001b[39m sampler\u001b[38;5;241m.\u001b[39msample_qubo(qubo_dict, num_reads\u001b[38;5;241m=\u001b[39mnum_iterations)\n\u001b[1;32m     44\u001b[0m \u001b[38;5;66;03m# サンプリング結果をデコード\u001b[39;00m\n\u001b[0;32m---> 45\u001b[0m decoded_samples \u001b[38;5;241m=\u001b[39m \u001b[43mmodel\u001b[49m\u001b[38;5;241;43m.\u001b[39;49m\u001b[43mdecode_sampleset\u001b[49m\u001b[43m(\u001b[49m\u001b[43mresponse\u001b[49m\u001b[43m,\u001b[49m\u001b[43m \u001b[49m\u001b[43mfeed_dict\u001b[49m\u001b[38;5;241;43m=\u001b[39;49m\u001b[43mfeed_dict\u001b[49m\u001b[43m)\u001b[49m\n\u001b[1;32m     47\u001b[0m \u001b[38;5;66;03m# 最良のサンプルを選択\u001b[39;00m\n\u001b[1;32m     48\u001b[0m best_sample \u001b[38;5;241m=\u001b[39m \u001b[38;5;28mmin\u001b[39m(decoded_samples, key\u001b[38;5;241m=\u001b[39m\u001b[38;5;28;01mlambda\u001b[39;00m x: x\u001b[38;5;241m.\u001b[39menergy)\n",
      "\u001b[0;31mKeyboardInterrupt\u001b[0m: "
     ]
    }
   ],
   "source": [
    "# Optuna の最適化を実行\n",
    "study = optuna.create_study(directions=('minimize', 'minimize'))\n",
    "study.optimize(objective, n_trials=50)\n",
    "\n",
    "# 結果をデータフレームに変換\n",
    "df_results = pd.DataFrame(results)\n",
    "df_decoded = pd.DataFrame(decoded_results)\n",
    "\n",
    "# 結果をCSVファイルとして保存\n",
    "df_results.to_csv(\"optimization_results.csv\", index=False)\n",
    "df_decoded.to_csv(\"decoded_results.csv\", index=False)"
   ]
  },
  {
   "cell_type": "markdown",
   "metadata": {},
   "source": [
    "## PyQUBOで定式化"
   ]
  },
  {
   "cell_type": "code",
   "execution_count": 104,
   "metadata": {},
   "outputs": [],
   "source": [
    "# #ハミルトニアンを構築\n",
    "# A = Placeholder(\"A\")\n",
    "# B = Placeholder(\"B\")\n",
    "# C = Placeholder(\"C\")\n",
    "# D = Placeholder(\"D\")\n",
    "# E = Placeholder(\"E\")\n",
    "\n",
    "# H = A * SubH(H_firing, \"SubH1\") + B * SubH(H_conflict, \"SubH2\") + C * SubH(H_precedence, \"SubH3\") + D * SubH(H_resourceCost, \"SubH4\") + E * SubH(H_waitingTime, \"SubH4\")"
   ]
  },
  {
   "cell_type": "code",
   "execution_count": 105,
   "metadata": {},
   "outputs": [],
   "source": [
    "# # モデルをコンパイル\n",
    "# model = H.compile()"
   ]
  },
  {
   "cell_type": "code",
   "execution_count": 106,
   "metadata": {},
   "outputs": [],
   "source": [
    "# #PyQUBOの場合\n",
    "# feed_dict = {\"A\": 600.0, \"B\": 150.0, \"C\": 250.0, \"D\": 8.189090682003714, \"E\": 2.206725381181465}\n"
   ]
  },
  {
   "cell_type": "code",
   "execution_count": 107,
   "metadata": {},
   "outputs": [],
   "source": [
    "# # QUBOを作成\n",
    "# bqm = model.to_bqm(feed_dict=feed_dict)"
   ]
  },
  {
   "cell_type": "code",
   "execution_count": 108,
   "metadata": {},
   "outputs": [],
   "source": [
    "# # QUBOの変数数（量子ビットの数）を確認\n",
    "# num_qubits = len(bqm.variables)\n",
    "# print(f\"Number of qubits: {num_qubits}\")"
   ]
  },
  {
   "cell_type": "markdown",
   "metadata": {},
   "source": [
    "## OpenJijで計算"
   ]
  },
  {
   "cell_type": "code",
   "execution_count": 109,
   "metadata": {},
   "outputs": [],
   "source": [
    "# import openjij as oj\n",
    "# import jijmodeling_transpiler as jmt"
   ]
  },
  {
   "cell_type": "code",
   "execution_count": 110,
   "metadata": {},
   "outputs": [],
   "source": [
    "# # アニーリング回数\n",
    "# num_iterations = 100\n",
    "\n",
    "# # QUBOを辞書形式に変換\n",
    "# qubo_dict = bqm.to_qubo()[0]\n",
    "\n",
    "# # OpenJijのSamplerを使用してQUBOを解く\n",
    "# sampler = oj.SASampler()\n",
    "\n",
    "# response = sampler.sample_qubo(qubo_dict, num_reads=num_iterations)\n",
    "\n",
    "# # サンプリング結果をデコード\n",
    "# decoded_samples = model.decode_sampleset(response, feed_dict=feed_dict)\n",
    "# # sampleset = jmt.core.pubo.decode_from_openjij(response, pubo_builder, compiled_model)\n",
    "\n",
    "# # 最良のサンプルを選択\n",
    "# best_sample = min(decoded_samples, key=lambda x: x.energy)\n",
    "# num_broken = len(best_sample.constraints(only_broken=True))"
   ]
  },
  {
   "cell_type": "code",
   "execution_count": 111,
   "metadata": {},
   "outputs": [],
   "source": [
    "# # 最良のサンプルの各サブハミルトニアンの値を計算する関数\n",
    "# # 上手く計算できてると思われるが使わないでもいい\n",
    "# def calculate_subh_energy(subh, sample, feed_dict):\n",
    "#     \"\"\"\n",
    "#     各サブハミルトニアンの計算\n",
    "#     Args:\n",
    "#         subh: サブハミルトニアン\n",
    "#         sample: 最良のサンプル\n",
    "#         feed_dict: ハイパーパラメータ\n",
    "#     Returns:\n",
    "#         ハミルトニアンの各項のエネルギーを計算する\n",
    "#     \"\"\"\n",
    "#     subh_model = subh.compile()\n",
    "#     subh_qubo, subh_offset = subh_model.to_qubo(feed_dict=feed_dict)\n",
    "#     subh_energy = sum(subh_qubo.get((v, v), 0) * sample[v] for v in sample) #一次項の計算\n",
    "#     for (v1, v2), coeff in subh_qubo.items(): #二次の項の計算\n",
    "#         if v1 != v2:\n",
    "#             subh_energy += coeff * sample[v1] * sample[v2]\n",
    "#     return subh_energy + subh_offset"
   ]
  },
  {
   "cell_type": "code",
   "execution_count": 112,
   "metadata": {},
   "outputs": [],
   "source": [
    "# #目的関数のエネルギー\n",
    "# resource_cost = calculate_subh_energy(H_resourceCost, best_sample.sample, feed_dict)\n",
    "# waiting_time = calculate_subh_energy(H_waitingTime, best_sample.sample, feed_dict)"
   ]
  },
  {
   "cell_type": "code",
   "execution_count": 113,
   "metadata": {},
   "outputs": [],
   "source": [
    "# # デコードさた解を表示\n",
    "# print(\"Decoded Solution:\")\n",
    "# for variable, value in best_sample.sample.items():\n",
    "#     print(f\"{variable}: {value}\")れ"
   ]
  },
  {
   "cell_type": "code",
   "execution_count": 114,
   "metadata": {},
   "outputs": [],
   "source": [
    "# print(\"\\nEnergy:\")\n",
    "# print(best_sample.energy)\n",
    "\n",
    "# print(best_sample.constraints(only_broken=True))\n",
    "# print(\"number of broken constarint = {}\".format(num_broken)) #信用できるのかわからない,手動でエネルギー計算してみる"
   ]
  },
  {
   "cell_type": "code",
   "execution_count": 115,
   "metadata": {},
   "outputs": [],
   "source": [
    "# best_sample.subh['SubH3'] #firing"
   ]
  },
  {
   "cell_type": "code",
   "execution_count": 116,
   "metadata": {},
   "outputs": [],
   "source": [
    "# keys = [k for k, v in best_sample.sample.items() if v == 1]"
   ]
  },
  {
   "cell_type": "code",
   "execution_count": 117,
   "metadata": {},
   "outputs": [],
   "source": [
    "# # 正規表現\n",
    "# def extractVariable(s):  \n",
    "#     literal = re.split('[\\[\\]]', s)\n",
    "#     while '' in literal:\n",
    "#         literal.remove('')       \n",
    "#     return literal"
   ]
  },
  {
   "cell_type": "markdown",
   "metadata": {},
   "source": [
    "## ガントチャートに表したい結果を引数指定してもってくる"
   ]
  },
  {
   "cell_type": "code",
   "execution_count": 118,
   "metadata": {},
   "outputs": [],
   "source": [
    "# ans = []\n",
    "\n",
    "# for k in keys:\n",
    "#     ans.append(extractVariable(k))\n",
    "\n",
    "# sort_ans = list(range(len(ans)))\n",
    "\n",
    "# for i in ans:\n",
    "#     sort_ans[int(i[2])] = i\n",
    "    \n",
    "# sort_ans"
   ]
  },
  {
   "cell_type": "code",
   "execution_count": 119,
   "metadata": {},
   "outputs": [],
   "source": [
    "result1 = pd.read_csv(\"optimization_results.csv\")\n",
    "result2 = pd.read_csv(\"decoded_results.csv\")"
   ]
  },
  {
   "cell_type": "code",
   "execution_count": 120,
   "metadata": {},
   "outputs": [
    {
     "name": "stdout",
     "output_type": "stream",
     "text": [
      "    trial  num_qubits       energy  feasible  SubH1  SubH2  SubH3  SubH4  \\\n",
      "1       1         756  2570.495327      True    0.0    0.0    0.0  207.0   \n",
      "10     10         756  3067.251323      True    0.0    0.0    0.0  225.0   \n",
      "34     34         756  1315.294959      True    0.0    0.0    0.0  355.0   \n",
      "41     41         756  1207.667173      True    0.0    0.0    0.0  337.0   \n",
      "\n",
      "    SubH5          D          E  \n",
      "1    42.0  11.162704   6.186083  \n",
      "10   33.0  11.286844  15.991256  \n",
      "34   33.0   3.060355   6.935418  \n",
      "41   40.0   2.995982   4.950535  \n"
     ]
    }
   ],
   "source": [
    "# result1 をデータフレームに変換\n",
    "df = pd.DataFrame(result1)\n",
    "\n",
    "# feasible が True の行だけ抽出\n",
    "feasible_df = df[df[\"feasible\"] == True]\n",
    "\n",
    "# 抽出結果を表示\n",
    "print(feasible_df)\n"
   ]
  },
  {
   "cell_type": "code",
   "execution_count": 138,
   "metadata": {},
   "outputs": [],
   "source": [
    "sort_ans = result2[\"sort_ans\"][1]"
   ]
  },
  {
   "cell_type": "code",
   "execution_count": 139,
   "metadata": {},
   "outputs": [
    {
     "data": {
      "text/plain": [
       "\"[['x', '4', '0', '0'], ['x', '11', '1', '3'], ['x', '12', '2', '4'], ['x', '0', '3', '0'], ['x', '24', '4', '3'], ['x', '9', '5', '4'], ['x', '3', '6', '1'], ['x', '4', '7', '2'], ['x', '7', '8', '4'], ['x', '9', '9', '0'], ['x', '29', '10', '3'], ['x', '29', '11', '5'], ['x', '6', '12', '0'], ['x', '8', '13', '3'], ['x', '22', '14', '4'], 15, 16, 17, 18, 19, 20, 21, 22, 23, 24, 25, 26, 27, 28, 29, 30, 31]\""
      ]
     },
     "execution_count": 139,
     "metadata": {},
     "output_type": "execute_result"
    }
   ],
   "source": [
    "sort_ans"
   ]
  },
  {
   "cell_type": "code",
   "execution_count": 140,
   "metadata": {},
   "outputs": [
    {
     "data": {
      "text/plain": [
       "[['x', '4', '0', '0'],\n",
       " ['x', '11', '1', '3'],\n",
       " ['x', '12', '2', '4'],\n",
       " ['x', '0', '3', '0'],\n",
       " ['x', '24', '4', '3'],\n",
       " ['x', '9', '5', '4'],\n",
       " ['x', '3', '6', '1'],\n",
       " ['x', '4', '7', '2'],\n",
       " ['x', '7', '8', '4'],\n",
       " ['x', '9', '9', '0'],\n",
       " ['x', '29', '10', '3'],\n",
       " ['x', '29', '11', '5'],\n",
       " ['x', '6', '12', '0'],\n",
       " ['x', '8', '13', '3'],\n",
       " ['x', '22', '14', '4'],\n",
       " 15,\n",
       " 16,\n",
       " 17,\n",
       " 18,\n",
       " 19,\n",
       " 20,\n",
       " 21,\n",
       " 22,\n",
       " 23,\n",
       " 24,\n",
       " 25,\n",
       " 26,\n",
       " 27,\n",
       " 28,\n",
       " 29,\n",
       " 30,\n",
       " 31]"
      ]
     },
     "execution_count": 140,
     "metadata": {},
     "output_type": "execute_result"
    }
   ],
   "source": [
    "import ast\n",
    "sort_ans = ast.literal_eval(sort_ans)\n",
    "sort_ans"
   ]
  },
  {
   "cell_type": "code",
   "execution_count": 142,
   "metadata": {},
   "outputs": [
    {
     "data": {
      "text/plain": [
       "{'m11': 0, 'm12': 1, 'm21': 2, 'm22': 3, 'm31': 4, 'm32': 5}"
      ]
     },
     "execution_count": 142,
     "metadata": {},
     "output_type": "execute_result"
    }
   ],
   "source": [
    "resource_num = assign_resource_num(resource_m)\n",
    "resource_num"
   ]
  },
  {
   "cell_type": "code",
   "execution_count": 143,
   "metadata": {},
   "outputs": [
    {
     "name": "stdout",
     "output_type": "stream",
     "text": [
      "{'t11': 'm11', 't12': 'm22', 't13': 'm31', 't21': 'm11', 't22': 'm22', 't23': 'm31', 't31': 'm12', 't32': 'm21', 't33': 'm31', 't41': 'm11', 't42': 'm22', 't43': 'm32', 't51': 'm11', 't52': 'm22', 't53': 'm31'}\n"
     ]
    }
   ],
   "source": [
    "# transition_num と resource_num のキーと値を反転させる\n",
    "transition_name = {v: k for k, v in transition_num.items()}\n",
    "resource_name = {v: k for k, v in resource_num.items()}\n",
    "\n",
    "# 結果を格納する辞書\n",
    "task_to_resource = {}\n",
    "\n",
    "# sort_ans を解析して、タスクとリソースの対応関係を取得\n",
    "for entry in sort_ans:\n",
    "    if isinstance(entry, list) and len(entry) == 4:\n",
    "        _, _, task_num_str, resource_num_str = entry\n",
    "        task_num = int(task_num_str)\n",
    "        resource_num = int(resource_num_str)\n",
    "        task_name = transition_name.get(task_num)\n",
    "        resource_name_str = resource_name.get(resource_num)\n",
    "        if task_name and resource_name_str:\n",
    "            task_to_resource[task_name] = resource_name_str\n",
    "\n",
    "# 結果を表示\n",
    "print(task_to_resource)\n",
    "\n"
   ]
  },
  {
   "cell_type": "code",
   "execution_count": 126,
   "metadata": {},
   "outputs": [],
   "source": [
    "# from collections import OrderedDict\n",
    "\n",
    "# def calc_machine_cost(machine_processing_time,ans):\n",
    "#     ans_order = OrderedDict()\n",
    "#     _cnt = 0\n",
    "\n",
    "#     for idx in machine_processing_time.keys():\n",
    "#         ans_order[idx] = _cnt\n",
    "#         _cnt += 1\n",
    "\n",
    "#     ans_list = list(ans_order.keys())\n",
    "\n",
    "#     sum_cost = 0\n",
    "#     for i in ans:\n",
    "#         sum_cost += machine_cost[ans_list[int(i[3])]]\n",
    "#     return sum_cost"
   ]
  },
  {
   "cell_type": "code",
   "execution_count": 127,
   "metadata": {},
   "outputs": [],
   "source": [
    "# def calc_processing_time(machine_processing_time,ans):\n",
    "#     ans_order = OrderedDict()\n",
    "#     _cnt = 0\n",
    "\n",
    "#     for idx in machine_processing_time.keys():\n",
    "#         ans_order[idx] = _cnt\n",
    "#         _cnt += 1\n",
    "\n",
    "#     ans_list = list(ans_order.keys())\n",
    "\n",
    "#     max_time = 0\n",
    "#     for i in range(len(ans)):\n",
    "#         max_time = max(max_time,int(ans[i][1])+machine_processing_time[ans_list[int(ans[i][3])]])\n",
    "#     return max_time"
   ]
  },
  {
   "cell_type": "code",
   "execution_count": 128,
   "metadata": {},
   "outputs": [],
   "source": [
    "# # print(\"-\"*30)\n",
    "# # print(\"Machine Cost : {}\".format(machine_cost))\n",
    "# # print(\"-\"*30)\n",
    "# # print(\"Processing Time : {}\".format(processing_time))\n",
    "# print(\"-\"*30)\n",
    "# print(\"Resource Cost : {}\".format(resource_cost))\n",
    "# print(\"-\"*30)\n",
    "# print(\"Waiting Time : {}\".format(waiting_time))\n",
    "# print(\"-\"*30)"
   ]
  },
  {
   "cell_type": "code",
   "execution_count": 129,
   "metadata": {},
   "outputs": [],
   "source": [
    "# subH_list = ['SubH1','SubH2','SubH3']\n",
    "# is_feasible = True\n",
    "\n",
    "# for i in subH_list:\n",
    "#     if best_sample.subh[i] != 0:\n",
    "#         is_feasible = False\n",
    "# if is_feasible:\n",
    "#     print('Feasible!!')\n",
    "# else:\n",
    "#     if best_sample.subh[i] != 0:\n",
    "#         print(\"[\"+str(i)+\"]=\",best_sample.subh[i])"
   ]
  },
  {
   "cell_type": "markdown",
   "metadata": {},
   "source": [
    "## 結果をガントチャートで"
   ]
  },
  {
   "cell_type": "code",
   "execution_count": 144,
   "metadata": {},
   "outputs": [
    {
     "name": "stdout",
     "output_type": "stream",
     "text": [
      "Task t11: Processing time = 2\n",
      "Task t12: Processing time = 1\n",
      "Task t13: Processing time = 5\n",
      "Task t21: Processing time = 4\n",
      "Task t22: Processing time = 4\n",
      "Task t23: Processing time = 3\n",
      "Task t31: Processing time = 1\n",
      "Task t32: Processing time = 3\n",
      "Task t33: Processing time = 2\n",
      "Task t41: Processing time = 10\n",
      "Task t42: Processing time = 7\n",
      "Task t43: Processing time = 1\n",
      "Task t51: Processing time = 1\n",
      "Task t52: Processing time = 2\n",
      "Task t53: Processing time = 4\n"
     ]
    },
    {
     "data": {
      "image/png": "[encoded data removed]",
      "text/plain": [
       "<Figure size 1500x800 with 1 Axes>"
      ]
     },
     "metadata": {},
     "output_type": "display_data"
    }
   ],
   "source": [
    "import matplotlib.pyplot as plt\n",
    "import numpy as np\n",
    "from collections import defaultdict\n",
    "import math\n",
    "\n",
    "def create_gantt_chart(transition_num, task_to_resource, sort_ans, job_tasks, machine_processing_time):\n",
    "    # 全てのマシンリソースを取得\n",
    "    all_machines = sorted(list(machine_processing_time.keys()))\n",
    "    machine_to_idx = {machine: idx for idx, machine in enumerate(all_machines)}\n",
    "    \n",
    "    # タスクの開始時間とマシン割り当てを整理\n",
    "    task_details = defaultdict(dict)\n",
    "    \n",
    "    # sort_ansからタスクの情報を取得\n",
    "    for schedule in sort_ans:\n",
    "        if isinstance(schedule, list):  # リストの場合のみ処理\n",
    "            task_id = int(schedule[2])  # タスク番号\n",
    "            start_time = int(schedule[1])  # 開始時刻\n",
    "            \n",
    "            # task_idに対応するタスク名を見つける\n",
    "            task_name = None\n",
    "            for task, tid in transition_num.items():\n",
    "                if tid == task_id:\n",
    "                    task_name = task\n",
    "                    break\n",
    "                    \n",
    "            if task_name:\n",
    "                task_details[task_name]['machine'] = task_to_resource[task_name]\n",
    "                task_details[task_name]['start'] = start_time\n",
    "                task_details[task_name]['id'] = task_id\n",
    "    \n",
    "    # プロットの設定\n",
    "    fig, ax = plt.subplots(figsize=(15, 8))\n",
    "    \n",
    "    # 色の設定\n",
    "    colors = plt.cm.Set3(np.linspace(0, 1, len(all_machines)))\n",
    "    machine_colors = dict(zip(all_machines, colors))\n",
    "    \n",
    "    # タスクをプロット\n",
    "    for task, details in task_details.items():\n",
    "        machine = details['machine']\n",
    "        start_time = details['start']\n",
    "        \n",
    "        # タスクの処理時間を計算\n",
    "        duration = math.ceil(job_tasks[task] / machine_processing_time[machine])\n",
    "        \n",
    "        # タスクの処理時間を表示\n",
    "        print(f\"Task {task}: Processing time = {duration}\")\n",
    "        \n",
    "        ax.barh(y=machine_to_idx[machine],\n",
    "                width=duration,\n",
    "                left=start_time,\n",
    "                color=machine_colors[machine],\n",
    "                alpha=0.7,\n",
    "                edgecolor='black')\n",
    "        \n",
    "        # タスク名をバーの中央に表示\n",
    "        ax.text(start_time + duration / 2,\n",
    "                machine_to_idx[machine],\n",
    "                task,\n",
    "                ha='center',\n",
    "                va='center',\n",
    "                fontsize=13)\n",
    "    \n",
    "    # グラフの装飾\n",
    "    ax.set_yticks(range(len(all_machines)))\n",
    "    ax.set_yticklabels(all_machines)\n",
    "    ax.set_xlabel('Time')\n",
    "    ax.set_ylabel('Machine')\n",
    "    ax.set_title('Task Schedule Gantt Chart')\n",
    "    \n",
    "    # グリッド線の追加\n",
    "    ax.grid(True, axis='x', alpha=0.3)\n",
    "    \n",
    "    # x軸の範囲を調整\n",
    "    max_time = max(\n",
    "        details['start'] + job_tasks[task] / machine_processing_time[details['machine']]\n",
    "        for task, details in task_details.items()\n",
    "    )\n",
    "    ax.set_xlim(-0.5, max_time + 1.5)\n",
    "    \n",
    "    plt.tight_layout()\n",
    "    return fig, ax\n",
    "\n",
    "# タスクスケジュールの例\n",
    "fig, ax = create_gantt_chart(transition_num, task_to_resource, sort_ans, job_tasks, machine_processing_time)\n",
    "plt.show()\n"
   ]
  },
  {
   "cell_type": "markdown",
   "metadata": {},
   "source": [
    "## データをcsvに保存する"
   ]
  },
  {
   "cell_type": "code",
   "execution_count": 131,
   "metadata": {},
   "outputs": [],
   "source": [
    "# import csv\n",
    "# import os\n",
    "# from datetime import datetime\n",
    "\n",
    "# now = datetime.now()\n",
    "# timestamp = now.strftime('%Y-%m-%d')\n",
    "\n",
    "# # 保存するファイル名\n",
    "# csv_filename = f'./search/t_30/0901/{timestamp}_patt30_job{num_jobs}.csv' #任意のファイル名\n",
    "\n",
    "# # CSVファイルが存在するかどうかを確認\n",
    "# file_exists = os.path.isfile(csv_filename)\n",
    "\n",
    "# constraint_error = best_sample.constraints(only_broken=True)\n",
    "# feasible = 0 if is_feasible else constraint_error \n",
    "# #制約違反起こしてない場合もある、そのときはサブハミルトニアンが0ではない場合があるので出力する様にしている\n",
    "\n",
    "# # データをリストのリストとして準備\n",
    "# # data = [[num_iterations, machine_cost, processing_time, resource_cost, wating_time, feasible]]\n",
    "# data = [[num_iterations, resource_cost, waiting_time, feasible]]\n",
    "\n",
    "# # ファイルが存在しない場合はヘッダーを追加\n",
    "# if not file_exists:\n",
    "#     with open(csv_filename, mode='w', newline='') as file:\n",
    "#         writer = csv.writer(file)\n",
    "#         # writer.writerow(['iteration', 'machine_cost', 'processing_time', 'resource_cost', 'wating_time','feasible'])\n",
    "#         writer.writerow(['iteration', 'resource_cost', 'waiting_time','feasible'])\n",
    "#         writer.writerows(data)\n",
    "# else:\n",
    "#     # ファイルが存在する場合は追記\n",
    "#     with open(csv_filename, mode='a', newline='') as file:\n",
    "#         writer = csv.writer(file)\n",
    "#         writer.writerows(data)"
   ]
  },
  {
   "cell_type": "markdown",
   "metadata": {},
   "source": [
    "## データに対して平均と分散をplot"
   ]
  },
  {
   "cell_type": "code",
   "execution_count": 132,
   "metadata": {},
   "outputs": [],
   "source": [
    "# import pandas as pd\n",
    "# import numpy as np\n",
    "# import re\n",
    "# import glob\n",
    "# import matplotlib.pyplot as plt\n",
    "\n",
    "# # 全パターンのファイルパスを取得\n",
    "# file_paths = glob.glob(\"../search/t_30/0901/2024-09-01_patt*_job15.csv\") #任意のファイル名\n",
    "# # file_paths = glob.glob(\"./search/t_30/2024-08-22_patt*_job15.csv\")\n",
    "\n",
    "# # 結果を保存するリスト\n",
    "# all_results = []\n",
    "\n",
    "# # 各ファイルに対して処理を適用\n",
    "# for file_path in file_paths:\n",
    "#     # ファイル名からパターン番号を抽出\n",
    "#     patt_number = int(re.search(r'patt(\\d+)', file_path).group(1))\n",
    "    \n",
    "#     # CSVファイルを読み込む\n",
    "#     df = pd.read_csv(file_path)\n",
    "    \n",
    "#     # feasibleが0の行のみを選択（文字列'0'も含む）\n",
    "#     df_feasible_0 = df[df['feasible'].astype(str) == '0']\n",
    "    \n",
    "#     # resource_cost, wating_time, feasible列を数値に変換\n",
    "#     df_feasible_0['resource_cost'] = pd.to_numeric(df_feasible_0['resource_cost'], errors='coerce')\n",
    "#     df_feasible_0['waiting_time'] = pd.to_numeric(df_feasible_0['waiting_time'], errors='coerce')\n",
    "#     df_feasible_0['feasible'] = pd.to_numeric(df_feasible_0['feasible'], errors='coerce')\n",
    "    \n",
    "#     # 数値に変換できなかったデータを除外\n",
    "#     df_feasible_0 = df_feasible_0.dropna(subset=['resource_cost', 'waiting_time', 'feasible'])\n",
    "    \n",
    "#     # iteration毎にresource_costとwating_timeの平均と分散を計算\n",
    "#     summary = df_feasible_0.groupby('iteration').agg(\n",
    "#         mean_resource_cost=('resource_cost', 'mean'),\n",
    "#         var_resource_cost=('resource_cost', 'var'),\n",
    "#         mean_waiting_time=('waiting_time', 'mean'),\n",
    "#         var_waiting_time=('waiting_time', 'var'),\n",
    "#     ).reset_index()\n",
    "    \n",
    "#     # パターン番号を追加\n",
    "#     summary['patt'] = patt_number\n",
    "    \n",
    "#     # パターン番号とiterationを結合して新しいラベルを作成\n",
    "#     summary['label'] = summary['patt'].astype(str) + \"_\" + summary['iteration'].astype(str)\n",
    "    \n",
    "#     # リストに追加\n",
    "#     all_results.append(summary)\n",
    "    \n",
    "# # 全パターンの結果を結合\n",
    "# final_df = pd.concat(all_results)\n",
    "\n",
    "# # パターンごとに結果をソート\n",
    "# final_df = final_df.sort_values(by=['patt', 'iteration'])\n",
    "\n",
    "# final_df"
   ]
  },
  {
   "cell_type": "code",
   "execution_count": 133,
   "metadata": {},
   "outputs": [],
   "source": [
    "# # resource_costをプロット\n",
    "# plt.figure(figsize=(12, 6))\n",
    "\n",
    "# # 分散のエラーバーを計算\n",
    "# err_rc = np.sqrt(final_df['var_resource_cost'])\n",
    "\n",
    "# plt.errorbar(final_df['label'], final_df['mean_resource_cost'], \n",
    "#              yerr=err_rc,\n",
    "#              fmt='o-', color='blue', capsize=5, label='Resource Cost')\n",
    "\n",
    "# plt.xlabel('Pattern_Iteration')\n",
    "# plt.ylabel('Resource Cost')\n",
    "# plt.title('Average and Variance of Resource Cost by Pattern and Iteration')\n",
    "# plt.xticks(rotation=45)  # ラベルを45度傾けて表示\n",
    "# plt.legend()\n",
    "# plt.grid(True)\n",
    "# plt.show()"
   ]
  },
  {
   "cell_type": "code",
   "execution_count": 134,
   "metadata": {},
   "outputs": [],
   "source": [
    "# # wating_timeをプロット\n",
    "# plt.figure(figsize=(12, 6))\n",
    "\n",
    "# # 分散のエラーバーを計算\n",
    "# err_wt = np.sqrt(final_df['var_waiting_time'])\n",
    "\n",
    "# plt.errorbar(final_df['label'], final_df['mean_waiting_time'], \n",
    "#              yerr=err_wt,\n",
    "#              fmt='o-', color='orange', capsize=5, label='Waiting Time')\n",
    "\n",
    "# plt.xlabel('Pattern_Iteration')\n",
    "# plt.ylabel('Waiting Time')\n",
    "# plt.title('Average and Variance of Waiting Time by Pattern and Iteration')\n",
    "# plt.xticks(rotation=45)  # ラベルを45度傾けて表示\n",
    "# plt.legend()\n",
    "# plt.grid(True)\n",
    "# plt.show()"
   ]
  },
  {
   "cell_type": "markdown",
   "metadata": {},
   "source": [
    "## パラメータDを固定しEの変えていき平均の値のデータ取得後plot"
   ]
  },
  {
   "cell_type": "code",
   "execution_count": 135,
   "metadata": {},
   "outputs": [],
   "source": [
    "# import pandas as pd\n",
    "# import numpy as np\n",
    "# import matplotlib.pyplot as plt\n",
    "\n",
    "# # プロットの文字サイズを設定\n",
    "# plt.rcParams.update({\n",
    "#     'font.size': 14,          # 全体のフォントサイズ\n",
    "#     'axes.titlesize': 18,     # タイトルのフォントサイズ\n",
    "#     'axes.labelsize': 16,     # X軸、Y軸ラベルのフォントサイズ\n",
    "#     'xtick.labelsize': 12,    # X軸の目盛りラベルのフォントサイズ\n",
    "#     'ytick.labelsize': 12     # Y軸の目盛りラベルのフォントサイズ\n",
    "# })\n",
    "\n",
    "# # 読み込むCSVファイルのリスト\n",
    "# csv_files = [\n",
    "#     '../search/t_30/0901/final_summary_1_to_6.csv',\n",
    "#     '../search/t_30/0901/final_summary_7_to_12.csv',\n",
    "#     '../search/t_30/0901/final_summary_13_to_18.csv',\n",
    "#     '../search/t_30/0901/final_summary_19_to_24.csv',\n",
    "#     '../search/t_30/0901/final_summary_25_to_30.csv'\n",
    "# ]\n",
    "\n",
    "# # 凡例のラベルをDの値に対応させる\n",
    "# legend_labels = ['D=1', 'D=5', 'D=8', 'D=10', 'D=13']\n",
    "\n",
    "# # カラーマップを作成（viridisカラーマップを使用）\n",
    "# colors = plt.cm.viridis(np.linspace(0, 1, len(csv_files)))\n",
    "\n",
    "# # カスタムの横軸ラベル\n",
    "# custom_xticks = ['1', '10', '20', '30', '40', '50']\n",
    "\n",
    "# # プロットの作成 - 横幅を狭めるためfigsizeを小さく設定\n",
    "# fig, ax1 = plt.subplots(figsize=(6, 5))  # 横幅6インチ、縦幅5インチ\n",
    "\n",
    "# # 各CSVファイルについてループ\n",
    "# for i, file in enumerate(csv_files):\n",
    "#     final_df = pd.read_csv(file)\n",
    "#     x_indices = np.arange(len(final_df['label']))\n",
    "\n",
    "#     ax1.plot(\n",
    "#         x_indices, \n",
    "#         final_df['mean_resource_cost'], \n",
    "#         marker='o', linestyle='-', color=colors[i], \n",
    "#         label=legend_labels[i]\n",
    "#     )\n",
    "\n",
    "# # 右のY軸を作成\n",
    "# ax2 = ax1.twinx()\n",
    "\n",
    "# # 各CSVファイルについてループ\n",
    "# for i, file in enumerate(csv_files):\n",
    "#     final_df = pd.read_csv(file)\n",
    "#     x_indices = np.arange(len(final_df['label']))\n",
    "\n",
    "#     ax2.plot(\n",
    "#         x_indices, \n",
    "#         final_df['mean_waiting_time'], \n",
    "#         marker='x', linestyle='--', color=colors[i], \n",
    "#         label=legend_labels[i]\n",
    "#     )\n",
    "\n",
    "# # X軸のカスタムラベルを設定\n",
    "# plt.xticks(ticks=np.arange(len(custom_xticks)), labels=custom_xticks, fontsize=12, rotation=45)\n",
    "\n",
    "# # 軸ラベルの設定\n",
    "# ax1.set_xlabel('parameter E')\n",
    "# ax1.set_ylabel('resource cost')\n",
    "# ax2.set_ylabel('waiting time')\n",
    "\n",
    "# # X軸の範囲を調整\n",
    "# ax1.set_xlim(-0.5, len(custom_xticks) - 0.5)\n",
    "\n",
    "# # 余白を調整\n",
    "# ax1.margins(x=0)\n",
    "\n",
    "# # プロットのタイトルを追加\n",
    "# fig.suptitle('Average Resource Cost and Waiting Time by Pattern and Iteration=100')\n",
    "\n",
    "# # 凡例の追加\n",
    "# ax1.legend(loc='upper left', bbox_to_anchor=(0, 1), ncol=2, fontsize=10)  # 左側の凡例のフォントサイズ\n",
    "# ax2.legend(loc='upper right', bbox_to_anchor=(1, 1), ncol=2, fontsize=10)  # 右側の凡例のフォントサイズ\n",
    "\n",
    "# # グリッドを有効化\n",
    "# ax1.grid(True)\n",
    "\n",
    "# # プロットのレイアウトを自動調整し、余白を削除\n",
    "# plt.tight_layout()\n",
    "\n",
    "# # プロットの表示\n",
    "# plt.show()"
   ]
  },
  {
   "cell_type": "markdown",
   "metadata": {},
   "source": [
    "## パレートフロントのプロット"
   ]
  },
  {
   "cell_type": "code",
   "execution_count": 136,
   "metadata": {},
   "outputs": [
    {
     "name": "stderr",
     "output_type": "stream",
     "text": [
      "/Users/aaaaa/.pyenv/versions/3.10.14/lib/python3.10/site-packages/IPython/core/pylabtools.py:170: UserWarning: Glyph 12487 (\\N{KATAKANA LETTER DE}) missing from font(s) DejaVu Sans.\n",
      "  fig.canvas.print_figure(bytes_io, **kw)\n",
      "/Users/aaaaa/.pyenv/versions/3.10.14/lib/python3.10/site-packages/IPython/core/pylabtools.py:170: UserWarning: Glyph 12540 (\\N{KATAKANA-HIRAGANA PROLONGED SOUND MARK}) missing from font(s) DejaVu Sans.\n",
      "  fig.canvas.print_figure(bytes_io, **kw)\n",
      "/Users/aaaaa/.pyenv/versions/3.10.14/lib/python3.10/site-packages/IPython/core/pylabtools.py:170: UserWarning: Glyph 12479 (\\N{KATAKANA LETTER TA}) missing from font(s) DejaVu Sans.\n",
      "  fig.canvas.print_figure(bytes_io, **kw)\n"
     ]
    },
    {
     "data": {
      "image/png": "[encoded data removed]",
      "text/plain": [
       "<Figure size 1000x600 with 1 Axes>"
      ]
     },
     "metadata": {},
     "output_type": "display_data"
    }
   ],
   "source": [
    "import seaborn as sns\n",
    "\n",
    "# CSVファイルからデータを読み込み\n",
    "optimization = pd.read_csv(\"optimization_results.csv\")\n",
    "\n",
    "# feasibleがTrueのデータのみをフィルタリング\n",
    "feasible_data = optimization[optimization['feasible'] == True]\n",
    "\n",
    "# プロットの作成\n",
    "plt.figure(figsize=(10, 6))\n",
    "sns.scatterplot(data=feasible_data, x='SubH5', y='SubH4')\n",
    "\n",
    "plt.title('データ')\n",
    "plt.xlabel('waitingtime')\n",
    "plt.ylabel('resourcecost')\n",
    "\n",
    "# グリッドの表示\n",
    "plt.grid(True, linestyle='--', alpha=0.7)\n",
    "\n",
    "# プロットの表示\n",
    "plt.show()"
   ]
  },
  {
   "cell_type": "code",
   "execution_count": 137,
   "metadata": {},
   "outputs": [],
   "source": [
    "# import optuna.visualization.matplotlib as mpl\n",
    "\n",
    "# # CSVファイルからデータを読み込む\n",
    "# df = pd.read_csv(\"optimization_results.csv\")\n",
    "\n",
    "# # feasibleなデータのみを抽出\n",
    "# feasible_data = df[df['feasible'] == True]\n",
    "\n",
    "# # OptunaのStudyオブジェクトを模倣するためのクラス\n",
    "# class Trial:\n",
    "#     def __init__(self, number, values):\n",
    "#         self.number = number\n",
    "#         self.values = values\n",
    "\n",
    "# class FakeStudy:\n",
    "#     def __init__(self, trials, directions):\n",
    "#         self.trials = trials\n",
    "#         self.directions = directions\n",
    "\n",
    "# # データを変換\n",
    "# trials = []\n",
    "# for i, row in feasible_data.iterrows():\n",
    "#     values = [row['SubH4'], row['SubH5']]\n",
    "#     trial = Trial(i, values)\n",
    "#     trials.append(trial)\n",
    "\n",
    "# # Studyオブジェクトを作成（両方の目的関数を最小化）\n",
    "# study = FakeStudy(trials, [\"minimize\", \"minimize\"])\n",
    "\n",
    "# # パレートフロントのプロット\n",
    "# fig = mpl.plot_pareto_front(study, target_names=[\"SubH4\", \"SubH5\"])\n",
    "\n",
    "# # プロットの体裁を調整\n",
    "# plt.title(\"Pareto Front of Feasible Solutions\")\n",
    "# plt.xlabel(\"ResourceCost\")\n",
    "# plt.ylabel(\"WaitingTime\")\n",
    "# plt.grid(True, linestyle='--', alpha=0.7)\n",
    "\n",
    "# # プロットを表示\n",
    "# plt.show()\n",
    "\n",
    "# # パレート最適解の特定と表示\n",
    "# pareto_trials = []\n",
    "# pareto_values = []\n",
    "# for trial in trials:\n",
    "#     is_pareto = True\n",
    "#     for other_trial in trials:\n",
    "#         if (trial.values[0] > other_trial.values[0] and \n",
    "#             trial.values[1] >= other_trial.values[1]) or (\n",
    "#             trial.values[0] >= other_trial.values[0] and \n",
    "#             trial.values[1] > other_trial.values[1]):\n",
    "#             is_pareto = False\n",
    "#             break\n",
    "#     if is_pareto:\n",
    "#         pareto_trials.append(trial)\n",
    "#         pareto_values.append(trial.values)\n",
    "\n",
    "# print(\"\\nPareto optimal solutions:\")\n",
    "# print(\"SubH4\\tSubH5\")\n",
    "# for values in sorted(pareto_values):\n",
    "#     print(f\"{values[0]:.2f}\\t{values[1]:.2f}\")\n",
    "\n",
    "# # 統計情報の表示\n",
    "# print(f\"\\nTotal number of feasible solutions: {len(trials)}\")\n",
    "# print(f\"Number of Pareto optimal solutions: {len(pareto_values)}\")"
   ]
  }
 ],
 "metadata": {
  "kernelspec": {
   "display_name": "3.10.14",
   "language": "python",
   "name": "python3"
  },
  "language_info": {
   "codemirror_mode": {
    "name": "ipython",
    "version": 3
   },
   "file_extension": ".py",
   "mimetype": "text/x-python",
   "name": "python",
   "nbconvert_exporter": "python",
   "pygments_lexer": "ipython3",
   "version": "3.10.14"
  }
 },
 "nbformat": 4,
 "nbformat_minor": 4
}
